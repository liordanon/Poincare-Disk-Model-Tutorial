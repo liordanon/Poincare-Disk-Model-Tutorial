{
  "nbformat": 4,
  "nbformat_minor": 0,
  "metadata": {
    "colab": {
      "name": "Copy of Dynamic Systems.ipynb",
      "version": "0.3.2",
      "provenance": [],
      "collapsed_sections": [],
      "include_colab_link": true
    },
    "kernelspec": {
      "name": "python3",
      "display_name": "Python 3"
    }
  },
  "cells": [
    {
      "cell_type": "markdown",
      "metadata": {
        "id": "view-in-github",
        "colab_type": "text"
      },
      "source": [
        "<a href=\"https://colab.research.google.com/github/liordanon/Poincare-Disk-Model-Tutorial/blob/master/Poincare-Disk-Model-Tutorial.ipynb\" target=\"_parent\"><img src=\"https://colab.research.google.com/assets/colab-badge.svg\" alt=\"Open In Colab\"/></a>"
      ]
    },
    {
      "cell_type": "code",
      "metadata": {
        "id": "NTouW828-Y2l",
        "colab_type": "code",
        "cellView": "form",
        "colab": {}
      },
      "source": [
        "#@title Coding Mathematical Constructs for Presentation\n",
        "import cmath\n",
        "import math\n",
        "import scipy.integrate as integrate\n",
        "\n",
        "class FractionalLinearTransform(object):\n",
        "  def __init__(self, a, b, c, d):\n",
        "    self.a = a\n",
        "    self.b = b\n",
        "    self.c = c\n",
        "    self.d = d\n",
        "  def __call__(self, z):\n",
        "    return (self.a*z + self.b)/(self.c*z + self.d)\n",
        "\n",
        "class AutoMorphism(object):\n",
        "  def __init__(self, a, theta = 0.0):\n",
        "    self.a = a\n",
        "    self.theta = theta\n",
        "  \n",
        "  def __call__(self, z):\n",
        "    return cmath.exp(1j*self.theta)*(z - self.a)/(1 - self.a.conjugate()*z)\n",
        "  \n",
        "  def Derivative(self):\n",
        "    return lambda z : cmath.exp(1j*self.theta)*(1 - abs(self.a)**2)/((1 - self.a.conjugate()*z)**2)\n",
        "\n",
        "def cross_ratio(z1, z2, z3, z4):\n",
        "  return (z2 - z1)*(z3 - z4)/((z2 - z4)*(z3 - z1))\n",
        "  \n",
        "class Metric_(object):\n",
        "    pass\n",
        "\n",
        "class Euclidean(Metric_):\n",
        "  def __call__(self, z1, z2):\n",
        "    return abs(z1 - z2)\n",
        "\n",
        "class Poincare(Metric_):\n",
        "  def __call__(self, z1, z2):\n",
        "    return math.atanh(abs((z2 - z1)/(1 - z1.conjugate()*z2)))\n",
        "\n",
        "class Curve(object):\n",
        "  def __init__(self,func, der):\n",
        "    self.func = func\n",
        "    self.der = der\n",
        "    self.alpha = lambda t: abs(self.der(t))/(1 - abs(self.func(t))**2)    \n",
        "  \n",
        "  def length(self):\n",
        "    return integrate.quad(self.alpha, 0.0, 1.0)[0]\n",
        "\n",
        "class PHI(object):\n",
        "  def __init__(self, z, w, u, v):\n",
        "    self.z = z\n",
        "    self.w = w\n",
        "    self.u = u\n",
        "    self.v = v\n",
        "\n",
        "  def __call__(self, t):\n",
        "    Metric = Poincare()\n",
        "\n",
        "    return Metric((1 - t)*self.z + t*self.u, (1 - t)*self.w + t*self.v)\n",
        "  \n",
        "  def Derivative(self):\n",
        "    epsilon = 10**(-11)\n",
        "    return lambda t : (self(t + epsilon) - self(t))/epsilon\n",
        "\n",
        "def Get_Circle(u, v):\n",
        "  u1, u2 = u.real, u.imag\n",
        "  v1, v2 = v.real, v.imag\n",
        "\n",
        "  C1 = (u2*(v1**2 + v2**2) - v2*(u1**2 + u2**2) + u2 - v2)/(u1*v2 - u2*v1)\n",
        "  C2 = (v1*(u1**2 + u2**2) - u1*(v1**2 + v2**2) + v1 - u1)/(u1*v2 - u2*v1)\n",
        "\n",
        "  return C1, C2\n"
      ],
      "execution_count": 0,
      "outputs": []
    },
    {
      "cell_type": "markdown",
      "metadata": {
        "id": "osmgzmJBhCcg",
        "colab_type": "text"
      },
      "source": [
        "#**Hyperbolic Geometry and Metrics intro**"
      ]
    },
    {
      "cell_type": "markdown",
      "metadata": {
        "id": "cbylma4vhv5X",
        "colab_type": "text"
      },
      "source": [
        "##**Hyperbolic Geometry Basics**"
      ]
    },
    {
      "cell_type": "markdown",
      "metadata": {
        "id": "BX8GUPfF5hmz",
        "colab_type": "text"
      },
      "source": [
        "\n",
        "\n",
        "In mathematics, a metric or distance function is a function that defines a distance between each pair of elements of a set.\n",
        "\n",
        "<br><br>\n",
        "such a function can be constructed using a cross ratio which is denoted thusly ${\\displaystyle (z_{1},z_{2};z_{3},z_{4})={\\frac {(z_{2}-z_{1})(z_{3}-z_{4})}{(z_{2}-z_{4})(z_{3}-z_{1})}}.}$\n",
        "<br><br>\n",
        "\n",
        "One important result of this definition is that the cross ratio is invariant under a fractional linear transformation and thus also under an auto morphism (on the unit disk).\n",
        "<br><br>\n",
        "The cross ratio of 4 complex numbers on a circle is used for hyperbolic metrics (discussed shortly) since being on a circle means the four points are the image of four real points under a mobius transformation and so the cross ratio is a real number\n",
        "\n",
        "\n"
      ]
    },
    {
      "cell_type": "code",
      "metadata": {
        "id": "VGIueSyA_OvC",
        "colab_type": "code",
        "outputId": "9f47551d-7e1e-43a5-f93e-86baab7215e1",
        "colab": {
          "base_uri": "https://localhost:8080/",
          "height": 34
        }
      },
      "source": [
        "F = FractionalLinearTransform(0.1 + 0.4j, 0.2 + 0.8j, 0.3, 0.4)\n",
        "\n",
        "z1 = 0.1 + 0.2j\n",
        "z2 = 0.2 + 0.3j\n",
        "z3 = 0.5 - 0.05j\n",
        "z4 = 0.4 + 0.2j\n",
        "\n",
        "\n",
        "cr1 = cross_ratio(z1, z2, z3, z4) \n",
        "cr2 = cross_ratio(F(z1), F(z2), F(z3), F(z4))\n",
        "\n",
        "\n",
        "\n",
        "# very low error (yet non-zero because of rounding errors in compution)\n",
        "print('{} = {}'.format(cr1, cr2)) \n",
        "\n"
      ],
      "execution_count": 0,
      "outputs": [
        {
          "output_type": "stream",
          "text": [
            "(-0.29438202247191014-0.2089887640449436j) = (-0.29438202247191303-0.2089887640449461j)\n"
          ],
          "name": "stdout"
        }
      ]
    },
    {
      "cell_type": "markdown",
      "metadata": {
        "id": "811Wqe5RR4ha",
        "colab_type": "text"
      },
      "source": [
        "## **What is A Metric ?**"
      ]
    },
    {
      "cell_type": "markdown",
      "metadata": {
        "id": "-_28935sOxlk",
        "colab_type": "text"
      },
      "source": [
        "A metric on a set X is a function (called the distance function or simply distance)\n",
        "\n",
        "$\n",
        "{\\displaystyle d:X\\times X\\to [0,\\infty )}$,\n",
        "where ${\\displaystyle [0,\\infty )}$ is the set of non-negative real numbers and for all ${\\displaystyle x,y,z\\in X} $, the following conditions are satisfied:\n",
        "\n",
        "(i).\t${\\displaystyle d(x,y)\\geq 0} $\tnon-negativity or separation axiom.\n",
        "<br>\n",
        "(ii).\t${\\displaystyle d(x,y)=0\\Leftrightarrow x=y} $\tidentity of indiscernibles.\n",
        "<br>\n",
        "(iii).\t${\\displaystyle d(x,y)=d(y,x)} $\tsymmetry.\n",
        "<br>\n",
        "(iv).\t${\\displaystyle d(x,z)\\leq d(x,y)+d(y,z)} $\tsubadditivity or triangle inequality.\n"
      ]
    },
    {
      "cell_type": "markdown",
      "metadata": {
        "id": "7VZGkww-hz0b",
        "colab_type": "text"
      },
      "source": [
        "##**Defining The Poincare Metric**"
      ]
    },
    {
      "cell_type": "markdown",
      "metadata": {
        "id": "o8cmqbWcGoNR",
        "colab_type": "text"
      },
      "source": [
        "\n",
        "\n",
        "In order for a metric to be useful to us we would want it to have a couple of important properties namely :\n",
        "\n",
        "(i) $for\\space each\\space F ∈ Aut(∆), \\space and \\space each \\space pair  \\space z,w \\space in \\space ∆ \\space :\\space ρ(F(z), F(w)) = ρ(z,w)$\n",
        "\n",
        "\n",
        "(ii) $for\\space each\\space pair \\space s, t ∈ (0, 1),\\space s<t\\space:\\space\n",
        "                                      ρ(0, t) = ρ(0, s) + ρ(s, t)$\n",
        "                                      \n",
        "                                      \n",
        "(iii) $lim_{t→0+}\\frac{ρ(0, t)}{t} = 1$\n"
      ]
    },
    {
      "cell_type": "markdown",
      "metadata": {
        "id": "gwVTUv3DHy01",
        "colab_type": "text"
      },
      "source": [
        "After requiring this properties it is simple to show that ρ has to be of the form \n",
        "ρ(z,w) = $\\frac{−1}{2} log(z`, z, w, w`)$= $ \\frac{1}{2}log(\\frac{1 + |m_{−z}(w)|}{1 − |m_{−z}(w)|.}) $  \n",
        "\n",
        "where  $m_{−z}(ξ)=(ξ − z)(1 − z\\bar{ξ} )^{−1}$\n",
        "and $z`$,  $z$, $w$, $w`$ are complex numbers on a circle with $z`\\space and\\space w`$ being on the intersection of the circle with $∂Δ$ and z, w on the circle and in $Δ$ by order. [Proof 1]\n",
        "<br><br>\n",
        "\n",
        "and from that we define the poincare metric on the unit disk: **$ρ(z_1,z_2)=\\tanh^{-1}\\left|\\frac{z_1-z_2}{1-\\bar{z_1}z_2}\\right| $**"
      ]
    },
    {
      "cell_type": "markdown",
      "metadata": {
        "id": "k3zxXxTWPvbR",
        "colab_type": "text"
      },
      "source": [
        "Let's test some of the properties we have associated with the poincare metric on the unit disk."
      ]
    },
    {
      "cell_type": "code",
      "metadata": {
        "id": "Jb_4OZfaPseW",
        "colab_type": "code",
        "outputId": "31ae041a-b6e7-40c1-aa36-00ce8183914e",
        "colab": {
          "base_uri": "https://localhost:8080/"
        }
      },
      "source": [
        "# One - invariance under automorphism\n",
        "# ρ(0, t) = ρ(0, s) + ρ(s, t)\n",
        "# lim t→0+ ρ(0,t)/t = 1\n",
        "\n",
        "F = AutoMorphism(0.5 + 0.1j, math.pi/3)\n",
        "\n",
        "Metric = Poincare()\n",
        "\n",
        "z1 = 0.1 + 0.5j\n",
        "z2 = 0.2 + 0.4j\n",
        "\n",
        "d1 = Metric(z1, z2)\n",
        "d2 = Metric(F(z1), F(z2))\n",
        "\n",
        "print('{} = {}'.format(d1, d2))\n",
        "\n",
        "s, t = 0.2 , 0.35\n",
        "\n",
        "d1 = Metric(0, t)\n",
        "d2 = Metric(0, s) + Metric(s, t)\n",
        "\n",
        "print('{} = {}'.format(d1, d2))\n",
        "\n",
        "epsilon = 10**(-20)\n",
        "\n",
        "limit_p = Metric(0, epsilon)/epsilon\n",
        "\n",
        "print('{} = 1'.format(limit_p))\n",
        "\n"
      ],
      "execution_count": 0,
      "outputs": [
        {
          "output_type": "stream",
          "text": [
            "0.18278414947337687 = 0.182784149473377\n",
            "0.36544375427139614 = 0.36544375427139614\n",
            "1.0 = 1\n"
          ],
          "name": "stdout"
        }
      ]
    },
    {
      "cell_type": "markdown",
      "metadata": {
        "id": "BZbTzpQYVTuF",
        "colab_type": "text"
      },
      "source": [
        "Notice the 3 properties written above seem to hold up when tested in code.\n",
        "feel free to test many combinations of $z_{i}\\space 's$ and Automorphisms T to be convinced."
      ]
    },
    {
      "cell_type": "markdown",
      "metadata": {
        "id": "2IGSN6m8jPaA",
        "colab_type": "text"
      },
      "source": [
        "##**Intuition About The Metric**\n"
      ]
    },
    {
      "cell_type": "markdown",
      "metadata": {
        "id": "LAkmo0bmjY_s",
        "colab_type": "text"
      },
      "source": [
        "One thing to note about metrics like this one is that even though we have \"left\" the euclidean plane, it doesn't mean that we have disposed of all intuition about the space we are in.\n",
        "\n",
        "If one is willing to embrace a few seamingly strange rules like that the shortest path between two points is not a straight line, that the sum of angles in a triangle sum to less then 180 degrees and some other somewhat strange phenomena, we can begin to understand what is going on in that space (Dont worry, at least circles are still kept circles).\n",
        "\n",
        "\n",
        "\n"
      ]
    },
    {
      "cell_type": "markdown",
      "metadata": {
        "id": "s-dkOqprhKjF",
        "colab_type": "text"
      },
      "source": [
        "#**Infinitesimal Poincare metric and geodesics**"
      ]
    },
    {
      "cell_type": "markdown",
      "metadata": {
        "id": "iRZfR93ZiWWF",
        "colab_type": "text"
      },
      "source": [
        "##**infinitesimal Poincare hyperbolic metric on ∆**"
      ]
    },
    {
      "cell_type": "markdown",
      "metadata": {
        "id": "dwawMCPdJ8th",
        "colab_type": "text"
      },
      "source": [
        "Let z be any point of ∆ and u ∈ C be such that z + u ∈ ∆.\n",
        "If ρ is the Poincare metric on ∆, then:\n",
        "\n",
        "$ρ(z,z + u) = \\frac{|u|}{ 1 − |z|^2} (1 + ε(u))$\n",
        "\n",
        "where ε (u) → 0, as u → 0\n"
      ]
    },
    {
      "cell_type": "markdown",
      "metadata": {
        "id": "tGGFfTnrKgXc",
        "colab_type": "text"
      },
      "source": [
        "To test this, let us re-write the equation as \n",
        "\n",
        "$ε(u) = \\frac{ρ(z,z+u)( 1 − |z|^2)}{|u|} - 1$\n",
        "\n",
        "and lets see if it ε(u) truly goes to 0 as u goes to 0"
      ]
    },
    {
      "cell_type": "code",
      "metadata": {
        "id": "tA3cu0m1VSuJ",
        "colab_type": "code",
        "outputId": "f23913c4-502c-47bd-b052-ab9727a85e6a",
        "colab": {
          "base_uri": "https://localhost:8080/"
        }
      },
      "source": [
        "def Eps(z, u):\n",
        "  Metric = Poincare()\n",
        "  return Metric(z, z + u)*(1 - abs(z)**2)/abs(u) - 1\n",
        "\n",
        "z = 0.1 + 0.2j\n",
        "u = 0.5 + 0.3j\n",
        "\n",
        "n = 15\n",
        "for i in range(n):\n",
        "  print('iteration {:2} epsilon is {}'.format(i , Eps(z, u)))\n",
        "  u /= 2"
      ],
      "execution_count": 0,
      "outputs": [
        {
          "output_type": "stream",
          "text": [
            "iteration  0 epsilon is 0.38701635436187054\n",
            "iteration  1 epsilon is 0.10067865330665526\n",
            "iteration  2 epsilon is 0.038322670070966236\n",
            "iteration  3 epsilon is 0.01669902177414717\n",
            "iteration  4 epsilon is 0.007780532885783176\n",
            "iteration  5 epsilon is 0.0037528829206350256\n",
            "iteration  6 epsilon is 0.0018426504526525278\n",
            "iteration  7 epsilon is 0.0009129437317321187\n",
            "iteration  8 epsilon is 0.00045438458608715315\n",
            "iteration  9 epsilon is 0.00022667147323085501\n",
            "iteration 10 epsilon is 0.00011320565597006116\n",
            "iteration 11 epsilon is 5.657032331818357e-05\n",
            "iteration 12 epsilon is 2.8277037379620396e-05\n",
            "iteration 13 epsilon is 1.4136487852978163e-05\n",
            "iteration 14 epsilon is 7.0677364332194514e-06\n"
          ],
          "name": "stdout"
        }
      ]
    },
    {
      "cell_type": "markdown",
      "metadata": {
        "id": "-z9nr851MV24",
        "colab_type": "text"
      },
      "source": [
        "Notice how by decreasing u to zero we get that ε (u) goes to zero as well (as expected).\n",
        "feel free to change the values of z and u to see that the property holds for all z, u that fit the conditions."
      ]
    },
    {
      "cell_type": "markdown",
      "metadata": {
        "id": "-LIX0wghNZvK",
        "colab_type": "text"
      },
      "source": [
        "By the formula above we get that the linear differential element dρ_{z} in the Poincare metric is defined by the formula :\n",
        "\n",
        "$dρ_{z} = \\frac{|dz|}{ 1 − |z|^2} $\n",
        "\n",
        "The form\n",
        "\n",
        "$α(z, u) = \\frac{|u|}{ 1 − |z|^2}$ is called the infinitesimal (or differential) Poincare hyperbolic metric on ∆."
      ]
    },
    {
      "cell_type": "markdown",
      "metadata": {
        "id": "tgV17vA3eazt",
        "colab_type": "text"
      },
      "source": [
        "By this definition the following two properties are directly implied:\n",
        "\n",
        "(a) $α(z, u) ≥ 0 \\space , z ∈ ∆, u ∈ \\mathbb{C}.$\n",
        "\n",
        "(b) $α(z, tu) = |t|α(z, u) \\space , t ∈ \\mathbb{C}.$\n"
      ]
    },
    {
      "cell_type": "markdown",
      "metadata": {
        "id": "E7W0sQWOyp1p",
        "colab_type": "text"
      },
      "source": [
        "One important property of the infinitesimal Poincare hyperbolic metric is that If $F ∈ Hol(∆)$ then $dρ_{F (z)} ≤ dρ_{z}$ or equivalently, $α (F(z), dF(z)) ≤ α(z, dz)$. \n",
        "<br>\n",
        "<br>\n",
        "If $F ∈ Aut(∆)$, then the equality in the equation above holds for all z ∈ ∆. Moreover, if\n",
        "the equality holds for at least one z ∈ ∆, then F ∈ Aut(∆)."
      ]
    },
    {
      "cell_type": "markdown",
      "metadata": {
        "id": "zo2uxQem1RL7",
        "colab_type": "text"
      },
      "source": [
        "Let us take some automorphism and show that this equality truly holds."
      ]
    },
    {
      "cell_type": "code",
      "metadata": {
        "id": "r49ttpa51xeq",
        "colab_type": "code",
        "outputId": "262287e9-ad0a-410b-e772-5de95deb8565",
        "colab": {
          "base_uri": "https://localhost:8080/"
        }
      },
      "source": [
        "def alpha(z, u):\n",
        "  return abs(u)/(1 - abs(z)**2)\n",
        "\n",
        "F = AutoMorphism(0.5 + 0.1j, math.pi/3)\n",
        "\n",
        "z = 0.1 + 0.05j\n",
        "dz = 10**(-15) + 10**(-13)*1j\n",
        "\n",
        "F_z = F(z)\n",
        "F_der_z = F.Derivative()(z)\n",
        "\n",
        "dF_z = F_der_z*dz\n",
        "\n",
        "print('{} = {}'.format(alpha(F_z, dF_z) , alpha(z, dz)))\n",
        "\n"
      ],
      "execution_count": 0,
      "outputs": [
        {
          "output_type": "stream",
          "text": [
            "1.0127088594937342e-13 = 1.0127088594937342e-13\n"
          ],
          "name": "stdout"
        }
      ]
    },
    {
      "cell_type": "markdown",
      "metadata": {
        "id": "Cniktm5T6AmB",
        "colab_type": "text"
      },
      "source": [
        "feel Free to Play with the Type of Automorphism, point z and dz  to see this holds in general."
      ]
    },
    {
      "cell_type": "markdown",
      "metadata": {
        "id": "cuqGfcb9yBK6",
        "colab_type": "text"
      },
      "source": [
        "##**Hyperbolic Length of a Curve**"
      ]
    },
    {
      "cell_type": "markdown",
      "metadata": {
        "id": "tYfW3byCyUGc",
        "colab_type": "text"
      },
      "source": [
        "In Infinatesimal Calculus 2 we have learned about line integrals and how an integral can be taken along any path.\n",
        "<br>\n",
        "<br>\n",
        "By doing so we were able to calculate the length of a line by integrating over the length differential of the path.\n",
        "<br>\n",
        "<br>\n",
        "the thing is that by calculating the length differential the way we did (the pythagorean theorem dl^2 = dx^2 + dy^2) we assumed that we are in a euclidean space which as we have explored throughout this Presentation is not the only metric space out there.\n",
        "<br>\n",
        "<br>\n",
        "Hence, the same way we have defined the path differential for the euclidean metric space and calculated the lengtyh of a segment of some line by integrating over it.\n",
        "<br>\n",
        "<br>\n",
        "we can take the linear differential element $dρ_{z}$ in the Poincare metric and integrate over it to calculate what we **define** as  the hyperbolic length of the line.\n",
        "<br>\n",
        "<br>\n",
        "or in a rigorous manner:\n",
        "Let $γ : [0, 1] → ∆$ be an admissible curve in $∆$ joining two points $z$ and $w$ in $∆$. Then the quantity \n",
        "$\n",
        "Lγ(= Lγ(z,w)) = \\int_{γ}{dρ_{γ(t)}} = \\int_{0}^{1}\\frac{|γ(t)|}{1 − |γ(t)|^2} dt\n",
        "$\n",
        "\n",
        "is called the hyperbolic length of γ\n",
        "\n",
        "analogous to the euclidean space case, one may think of it as summing over small pieces of hyperbolic length of the line.\n",
        "\n",
        "hence it should be no surprise that $ρ(z,w) ≤ L_{γ}(z,w)$\n",
        "because in analogy to the euclidean metric space, we know that the distance between 2 point (z, w) is the length of the shortest path (a straight line) between these two points."
      ]
    },
    {
      "cell_type": "markdown",
      "metadata": {
        "id": "Pq_VwZ77RbJY",
        "colab_type": "text"
      },
      "source": [
        "##**What is a Geodesic ?**\n"
      ]
    },
    {
      "cell_type": "markdown",
      "metadata": {
        "id": "W4HtraXRTJaM",
        "colab_type": "text"
      },
      "source": [
        "A Geodesic segment is what we understand as a \"straight line\" in euclidean space.\n",
        "\n",
        "It is the distance (using the poincare metric) of the shortest path (minimal distance) between two points.\n",
        "<br>\n",
        "<br>\n",
        "or in a more rigorous manner:\n",
        "\n",
        "A curve $γ$ joining points $z,w$ in $∆$ is called a geodesic segment in $∆$ if its length is equal to the hyperbolic distance between its end points $z$ and $w$ , i.e., $L_{γ}(z,w) = ρ(z,w)$\n",
        "<br>\n",
        "<br>\n",
        "One thing to note is that by the rule discussed before \n",
        "($for\\space each\\space pair \\space s, t ∈ (0, 1),\\space s<t\\space:\\space ρ(0, t) = ρ(0, s) + ρ(s, t)$) it is implied that s is on the geodesic from $0$ to any  point $t$,  $s < t < 1$ on  $[0, 1)$ . \n"
      ]
    },
    {
      "cell_type": "markdown",
      "metadata": {
        "id": "l_6pPYTzaUnq",
        "colab_type": "text"
      },
      "source": [
        "##**Geodesics on The Unit Disk in Poincare Metric Space**"
      ]
    },
    {
      "cell_type": "markdown",
      "metadata": {
        "id": "wW0eqxs5OGV6",
        "colab_type": "text"
      },
      "source": [
        "And in fact, one important result about geodesics in Poincare metric space is the following:\n",
        "<br><br>\n",
        "For each pair $z$ and $w$ in $∆$ there is a unique geodesic segment joining $z$ and $w$ and it is either a direct segment, if $z$ and $w$ lie on a diameter of $∆$, or a segment of the circle in $\\mathbb{C}$ which passes through $z$ and $w$ and is orthogonal to $∂∆$ the boundary of $∆$.\n",
        "<br><br>\n",
        "\n",
        "\n",
        "\n"
      ]
    },
    {
      "cell_type": "markdown",
      "metadata": {
        "id": "xivJFGYGU0IP",
        "colab_type": "text"
      },
      "source": [
        "Let us demonstrate this by taking some curves and seeing whether this holds for them."
      ]
    },
    {
      "cell_type": "code",
      "metadata": {
        "id": "wSIpr9P4UzU2",
        "colab_type": "code",
        "outputId": "1061c299-e7f1-4ad5-b20c-29d0066d5560",
        "colab": {
          "base_uri": "https://localhost:8080/"
        }
      },
      "source": [
        "Metric = Poincare()\n",
        "pi = math.pi\n",
        "\n",
        "s, w = 0.5 + 0.4j, -0.25 - 0.2j\n",
        "\n",
        "# A Geodesic segment from w to s where s, w on same diameter\n",
        "C1 = Curve(lambda t: (s - w)*t + w,\\\n",
        "           lambda t: s - w)\n",
        "\n",
        "print('{} = {}'.format(C1.length(), Metric(w, s)))\n",
        "\n",
        "\n",
        "# A random path between w and s\n",
        "C2 = Curve(lambda t: (s - w)*t + w + 0.05j*math.sin(pi * t),\\\n",
        "           lambda t: (s - w) + 0.05j*pi*math.cos(pi * t))\n",
        "\n",
        "print('{} > {}'.format(C2.length(), Metric(w, s)))\n",
        "\n",
        "w = 0.6173165676349104+0.07612046748871315j\n",
        "s = 0.07612046748871348+0.6173165676349097j\n",
        "\n",
        "# A Geodesic segment from w to s where s, w NOT on same diameter\n",
        "C3 = Curve(lambda t: 1+1j + math.sin(pi/2 * (0.5*t+0.25) + pi) + 1j*math.cos(pi/2 * (0.5*t+0.25) + pi)\\\n",
        "          ,lambda t: (pi/2)*0.5*math.cos(pi/2 * (0.5*t+0.25) + pi) - (pi/2)*0.5*1j*math.sin(pi/2 * (0.5*t+0.25) + pi))\n",
        "# A euclidean straight line between w and s\n",
        "C4 = Curve(lambda t: (s - w)*t + w,\\\n",
        "           lambda t: s - w)\n",
        "\n",
        "print('{} = {} < {}'.format(Metric(w, s), C3.length(),  C4.length()))"
      ],
      "execution_count": 0,
      "outputs": [
        {
          "output_type": "stream",
          "text": [
            "1.0905242482497604 = 1.0905242482497604\n",
            "1.0962166721272526 > 1.0905242482497604\n",
            "1.0465323920155627 = 1.0465323920155634 < 1.0810925000758327\n"
          ],
          "name": "stdout"
        }
      ]
    },
    {
      "cell_type": "markdown",
      "metadata": {
        "id": "6DZqgw0nY-N2",
        "colab_type": "text"
      },
      "source": [
        "We can see that taking some random path between this 2 points yeilded a length greater then the geodesic length between this 2 points as expected and that taking the geodesic path as described by the proposition above yeilded equal hyperbolic lengths (minus numerical computation errors).\n",
        "\n",
        "Moreover, we can see that taking the geodesic path between points w and s yeilded a shorter length then the straight line path between them.\n",
        "\n",
        "feel free to test out other curves $C$ and points $z$, $w$."
      ]
    },
    {
      "cell_type": "markdown",
      "metadata": {
        "id": "M9yk5oqFpuYJ",
        "colab_type": "text"
      },
      "source": [
        "Here is a cell to help you visuallize the geodesics "
      ]
    },
    {
      "cell_type": "code",
      "metadata": {
        "id": "R-4fX3nvpo9X",
        "colab_type": "code",
        "outputId": "f2f04559-28cd-4ed5-face-d6f696bcd954",
        "colab": {
          "base_uri": "https://localhost:8080/"
        }
      },
      "source": [
        "import numpy as np\n",
        "import matplotlib.pyplot as plt\n",
        "\n",
        "u, v = 0.3 + 0.5j, 0.7 + 0.1j\n",
        "\n",
        "u1, u2 = u.real, u.imag\n",
        "v1, v2 = v.real, v.imag\n",
        "\n",
        "fig, ax = plt.subplots()\n",
        "if (u1*v2 - u2*v1) == 0.0:\n",
        "\n",
        "  vec = u/abs(u)\n",
        "  xs = np.linspace(-1, 1, 2000)\n",
        "  ax.scatter([u.real, v.real], [u.imag, v.imag])\n",
        "  ax.plot(np.cos(2*np.pi*xs) , np.sin(2*np.pi*xs))\n",
        "  ax.plot(vec.real*xs, vec.imag*xs)\n",
        "  plt.show()\n",
        "\n",
        "else:\n",
        "  C1, C2 = Get_Circle(u, v)\n",
        "\n",
        "  xs = np.linspace(0, 1, 1000)\n",
        "\n",
        "  center = (-C1/2, -C2/2)\n",
        "  radius = np.sqrt((u.real-center[0])**2 + (u.imag - center[1])**2)\n",
        "\n",
        "\n",
        "  ax.scatter([u.real, v.real], [u.imag, v.imag])\n",
        "  ax.plot(np.cos(2*np.pi*xs) , np.sin(2*np.pi*xs))\n",
        "  ax.plot(center[0] + radius*np.cos(2*np.pi*xs) ,center[1] + radius*np.sin(2*np.pi*xs))\n",
        "  plt.show()\n",
        "\n"
      ],
      "execution_count": 0,
      "outputs": [
        {
          "output_type": "display_data",
          "data": {
            "image/png": "[encoded data removed]",
            "text/plain": [
              "<Figure size 432x288 with 1 Axes>"
            ]
          },
          "metadata": {
            "tags": []
          }
        }
      ]
    },
    {
      "cell_type": "markdown",
      "metadata": {
        "id": "shMjBRniVOZ4",
        "colab_type": "text"
      },
      "source": [
        "#**Poincare Metric with Convexity**"
      ]
    },
    {
      "cell_type": "markdown",
      "metadata": {
        "id": "5q4InoDz3uOz",
        "colab_type": "text"
      },
      "source": [
        "## **About the convexity of the Unit Disk**\n"
      ]
    },
    {
      "cell_type": "markdown",
      "metadata": {
        "id": "Loj60XI7HWVe",
        "colab_type": "text"
      },
      "source": [
        "It is very intuitive and very easy to show that the unit disk is convex [Proof 2].\n",
        "\n",
        "Knowing that the unit disk is convex, we can start exploring the metric along straight lines in Δ, since, being convex, every euclidean line between two points on Δ is contained in it."
      ]
    },
    {
      "cell_type": "markdown",
      "metadata": {
        "id": "lShHa-OhE8vQ",
        "colab_type": "text"
      },
      "source": [
        "##**teorem set 1**"
      ]
    },
    {
      "cell_type": "markdown",
      "metadata": {
        "id": "GB_SL0GU-5EP",
        "colab_type": "text"
      },
      "source": [
        "Exploring the poincare metric over straight line segments, we get the following theorems."
      ]
    },
    {
      "cell_type": "markdown",
      "metadata": {
        "id": "Zp7DhJw1CJhw",
        "colab_type": "text"
      },
      "source": [
        "The Poincare metric ρ on the unit disk $∆$ satisfies the following properties [PROOF 3]:\n",
        "<br><br>\n",
        "(i) for $z, w \\in ∆$ $,z \\ne w$, and $\\forall k ∈ (0, 1):\n",
        "ρ(kz, kw) < kp(z,w)$.\n",
        "<br><br>\n",
        "(ii) for $z, w$ and $u$ are three unique points in $∆$,  $\\forall k ∈ (0, 1)$:\n",
        "<br>\n",
        "$ρ((1 − k)z + ku,(1 − k)w + ku) ≤ qρ(z,w)$,\n",
        "with $q = (1 − k) + k|u| < 1$.\n",
        "<br><br>\n",
        "(iii) for $z, w, u$ and $v$ distinct points in $∆$, $\\forall k ∈ [0, 1]$:\n",
        "<br>\n",
        "$ρ((1 − k)z + ku,(1 − k)w + kv) ≤ max(ρ(z,w), ρ(u,v))$."
      ]
    },
    {
      "cell_type": "markdown",
      "metadata": {
        "id": "ak4VBCNFJH7d",
        "colab_type": "text"
      },
      "source": [
        "How do we interpret this theorems ?\n",
        "<br><br>\n",
        "Well, the first theorem is very easy to understand, and simply states that multiplying both points by a constant $k$ beween $0$ and one reduces the hyperbolic distance by a factor smaller than $k$. \n",
        "<br><br>\n",
        "The second theorem gives a maximum threshold of reduction from advancing closer to some point $u$ by a line division of $1 - k$ and $k$.\n",
        "<br><br>\n",
        "The third theorem simply states that taking 2 straight (euclidean) lines in the unit disk at both the same constant speed (wrt its length) the maximum hyperbolic distance is achieved at either the start of these paths or its end."
      ]
    },
    {
      "cell_type": "markdown",
      "metadata": {
        "id": "m0SVykeh_r55",
        "colab_type": "text"
      },
      "source": [
        "Let's see some examples in code."
      ]
    },
    {
      "cell_type": "code",
      "metadata": {
        "id": "La2luEr1_q1q",
        "colab_type": "code",
        "outputId": "e57fda77-ca4a-4918-96d1-7e2b17439443",
        "colab": {
          "base_uri": "https://localhost:8080/",
          "height": 136
        }
      },
      "source": [
        "Metric = Poincare()\n",
        "\n",
        "k = 0.2\n",
        "z, w = 0.1 + 0.2j, 0.7 - 0.3j\n",
        "\n",
        "print('{} < {}'.format(Metric(k*z, k*w), k*Metric(z, w)))\n",
        "\n",
        "k = 0.5\n",
        "z, w = 0.1 + 0.2j, 0.7 - 0.3j\n",
        "\n",
        "print('{} < {}'.format(Metric(k*z, k*w), k*Metric(z, w)))\n",
        "\n",
        "k = 0.8\n",
        "z, w = 0.1 + 0.2j, 0.7 - 0.3j\n",
        "\n",
        "print('{} < {}'.format(Metric(k*z, k*w), k*Metric(z, w)))\n",
        "\n",
        "print('-'*40)\n",
        "\n",
        "k = 0.2\n",
        "z, w = 0.1 + 0.2j, 0.7 - 0.3j\n",
        "u = -0.3 + 0.5j\n",
        "q = 1 - k + k*abs(u)\n",
        "\n",
        "print('{} <= {}'.format(Metric((1-k)*z + k*u, (1-k)*w + k*u), q*Metric(z, w)))\n",
        "\n",
        "print('-'*40)\n",
        "\n",
        "k = 0.2\n",
        "z, w = 0.1 + 0.2j, 0.7 - 0.3j\n",
        "u, v = -0.3 + 0.5j, -0.3 + 0.7j\n",
        "\n",
        "print('{} <= {}'.format(Metric((1-k)*z + k*u, (1-k)*w + k*v), max(Metric(z, w), Metric(u, v))))"
      ],
      "execution_count": 0,
      "outputs": [
        {
          "output_type": "stream",
          "text": [
            "0.15755475566740718 < 0.20782075145749515\n",
            "0.4131409353448642 < 0.5195518786437379\n",
            "0.7333459329827325 < 0.8312830058299806\n",
            "----------------------------------------\n",
            "0.6989750183191736 <= 0.9524622862799061\n",
            "----------------------------------------\n",
            "0.6709878129433696 <= 1.0391037572874757\n"
          ],
          "name": "stdout"
        }
      ]
    },
    {
      "cell_type": "markdown",
      "metadata": {
        "id": "m66wH3nmeULB",
        "colab_type": "text"
      },
      "source": [
        "##**rewriting the poincare metric between two equal speed paths**"
      ]
    },
    {
      "cell_type": "markdown",
      "metadata": {
        "id": "6U2dWug3Zulw",
        "colab_type": "text"
      },
      "source": [
        "for given points $z, w, u, v \\in ∆$.\n",
        "Using the equality $1 − |m_{−z}(w)|^2 = σ(z,w)$,\n",
        "where $σ(z,w) = \\frac{(1 − |z|^2)(1 − |w|^2)}{|1 − zw|^2}$ we get that $ρ(z,w) = tanh^{−1}\\sqrt{1 − σ(z,w)} $.\n",
        "And so defining $ψ(t) = σ ((1 − t)z + tu,(1 − t)w + tv)$ we get that $ϕ(t) = tanh^{−1}\\sqrt{ 1 − ψ(t)}$"
      ]
    },
    {
      "cell_type": "code",
      "metadata": {
        "id": "3Kfwwog3buxC",
        "colab_type": "code",
        "outputId": "230193cf-3dc3-43df-b211-c56ee1586551",
        "colab": {
          "base_uri": "https://localhost:8080/",
          "height": 51
        }
      },
      "source": [
        "def rho(z, w):\n",
        "  return (1 - abs(z)**2)*(1 - abs(w)**2)/abs(1 - z.conjugate()*w)**2\n",
        "\n",
        "Poincare_2 = lambda z, w : math.atanh(math.sqrt(1 - rho(z, w)))\n",
        "\n",
        "Metric1 = Poincare()\n",
        "Metric2 = Poincare_2\n",
        "\n",
        "z1, w1 = 0.4 + 0.3j, -0.7 + 0.1j\n",
        "z2, w2 = 0.6 - 0.5j, -0.6 + 0.1j\n",
        "\n",
        "print('{} = {}'.format(Metric1(z1, w1), Metric2(z1, w1)))\n",
        "print('{} = {}'.format(Metric1(z2, w2), Metric2(z2, w2)))"
      ],
      "execution_count": 0,
      "outputs": [
        {
          "output_type": "stream",
          "text": [
            "1.3628742021824065 = 1.3628742021824065\n",
            "1.721362393568316 = 1.721362393568316\n"
          ],
          "name": "stdout"
        }
      ]
    },
    {
      "cell_type": "markdown",
      "metadata": {
        "id": "VnMx9NRoLeVQ",
        "colab_type": "text"
      },
      "source": [
        "##**theorem set 2**"
      ]
    },
    {
      "cell_type": "markdown",
      "metadata": {
        "id": "fjXKgQ2RLgSn",
        "colab_type": "text"
      },
      "source": [
        "For  $z, w, u ,v \\in ∆$ the following statements are equivalent [Proof 4].\n",
        "<br><br>\n",
        "(i) the function $ϕ : [0, 1] → \\mathbb{R}^{+}, ϕ(t) = ρ((1 − t)z + tu,(1 − t)w + tv)$ is not decreasing on $[0, 1]$.\n",
        "<br><br>\n",
        "(ii) $ϕ(0) ≤ ϕ(t)$,  $t ∈ [0, 1]$.\n",
        "<br><br>\n",
        "(iii) $ϕ(0_{+}) ≥ 0$\n",
        "<br><br>\n",
        "(iv) $Re\\{\\frac{\n",
        "\\bar{z}(z − u)}{1 − |z|^2 }+{\\frac{\\bar{w}(w − v)}{1 − |w|^2}}\\}\n",
        "≤ Re\\{ \\frac{\\bar{z}(w − v) + w(\\bar{z} − \\bar{u})}{\n",
        "1 − \\bar{z}w} \\}.\n",
        "$"
      ]
    },
    {
      "cell_type": "markdown",
      "metadata": {
        "id": "fJgS6JbWZfvG",
        "colab_type": "text"
      },
      "source": [
        "Let's test those theorems in code."
      ]
    },
    {
      "cell_type": "code",
      "metadata": {
        "id": "XhMf7vu_ZjaY",
        "colab_type": "code",
        "outputId": "30999a60-963e-4292-9300-3f1366b16543",
        "colab": {
          "base_uri": "https://localhost:8080/",
          "height": 641
        }
      },
      "source": [
        "import matplotlib.pyplot as plt\n",
        "import numpy as np\n",
        "\n",
        "z =  0.1 + 0.2j\n",
        "w =  0.5 - 0.3j\n",
        "u =  0.2 + 0.7j\n",
        "v = -0.5 + 0.3j\n",
        "\n",
        "F = PHI(z, w, u, v)\n",
        "\n",
        "print('(a) + (b)')\n",
        "t = np.linspace(0, 1, 1000).tolist()\n",
        "F_t = list(map(F, t))\n",
        "plt.figure()\n",
        "plt.plot(t, F_t)\n",
        "plt.show()\n",
        "\n",
        "print('(c) derivative = {} < 0'.format(F.Derivative()(0)))\n",
        "\n",
        "right = ((z.conjugate()*(z - u)/(1-abs(z)**2) + w.conjugate()*(w - v)/(1-abs(w)**2))).real\n",
        "left = ((z.conjugate()*(w - v) + w*(z.conjugate() - u.conjugate()))/(1 - z.conjugate()*w)).real\n",
        "\n",
        "print('(D) {} > {}'.format(right, left))\n",
        "\n",
        "print('-'*50)\n",
        "\n",
        "z =  0.5 - 0.3j\n",
        "w =  0.5 - 0.3j\n",
        "u =  0.8888888888888888+0.4444444444444444j\n",
        "v = -0.5 + 0.6j\n",
        "\n",
        "F = PHI(z, w, u, v)\n",
        "\n",
        "print('(a) + (b)')\n",
        "t = np.linspace(0, 1, 1000).tolist()\n",
        "F_t = list(map(F, t))\n",
        "plt.figure()\n",
        "plt.plot(t, F_t)\n",
        "plt.show()\n",
        "\n",
        "print('(c) derivative = {} >= 0'.format(F.Derivative()(0)))\n",
        "\n",
        "right = ((z.conjugate()*(z - u)/(1-abs(z)**2) + w.conjugate()*(w - v)/(1-abs(w)**2))).real\n",
        "left = ((z.conjugate()*(w - v) + w*(z.conjugate() - u.conjugate()))/(1 - z.conjugate()*w)).real\n",
        "\n",
        "print('(D) {} <= {}'.format(right, left))\n",
        "\n",
        "\n",
        "\n",
        "      "
      ],
      "execution_count": 0,
      "outputs": [
        {
          "output_type": "stream",
          "text": [
            "(a) + (b)\n"
          ],
          "name": "stdout"
        },
        {
          "output_type": "display_data",
          "data": {
            "image/png": "[encoded data removed]",
            "text/plain": [
              "<Figure size 432x288 with 1 Axes>"
            ]
          },
          "metadata": {
            "tags": []
          }
        },
        {
          "output_type": "stream",
          "text": [
            "(c) derivative = -1.326494469822137 < 0\n",
            "(D) 0.9145135566188195 > 0.0804243008678881\n",
            "--------------------------------------------------\n",
            "(a) + (b)\n"
          ],
          "name": "stdout"
        },
        {
          "output_type": "display_data",
          "data": {
            "image/png": "[encoded data removed]",
            "text/plain": [
              "<Figure size 432x288 with 1 Axes>"
            ]
          },
          "metadata": {
            "tags": []
          }
        },
        {
          "output_type": "stream",
          "text": [
            "(c) derivative = 2.1175344249068857 >= 0\n",
            "(D) 1.2104377104377102 <= 1.2104377104377104\n"
          ],
          "name": "stdout"
        }
      ]
    },
    {
      "cell_type": "markdown",
      "metadata": {
        "id": "pEIZlWg1vUwU",
        "colab_type": "text"
      },
      "source": [
        "We can see here one example for each case and it is visible that for these 2 examples the implication chain has proven to work.\n",
        "\n",
        "feel free to test out different 4 points to see for yourself"
      ]
    },
    {
      "cell_type": "markdown",
      "metadata": {
        "id": "jenWrCTS-UE1",
        "colab_type": "text"
      },
      "source": [
        "#**PROOFS**"
      ]
    },
    {
      "cell_type": "markdown",
      "metadata": {
        "id": "n1vG7hID-kKX",
        "colab_type": "text"
      },
      "source": [
        "##**Proof 1**"
      ]
    },
    {
      "cell_type": "markdown",
      "metadata": {
        "id": "7bDTUzRm-Z8e",
        "colab_type": "text"
      },
      "source": [
        "\n",
        "$ρ(z,w) =  ρ(m_{−z}(z), m_{−z}(w)) = ρ(0,m_{−z}(w))$\n",
        "\n",
        "since $m_{−z} ∈ Aut(∆)$.\n",
        "<br>\n",
        "<br>\n",
        " $r_{ϕ}(u) \\equiv e^{iϕ}u, u ∈ ∆$ with $ϕ = − arg u$, we get\n",
        "\n",
        "$ρ(0, u) = ρ(r_{ϕ}(0), r_{ϕ}(u)) = ρ(0, |u|)$.\n",
        "<br>\n",
        "<br>\n",
        "and from this it is implied that $ρ(z,w) = ρ(0, |m_{−z}(w)|)$.\n",
        "\n",
        "So it remains to show that  $\\forall r ∈ (0, 1)$ the equation $ρ(0, r) = tanh^{−1}(r)$\n",
        "<br>\n",
        "<br>\n",
        "for each $δ > 0$, such that $r + δ < 1$ we get using (ii) and (i) that \n",
        "<br>\n",
        "<br>\n",
        "$\n",
        "ρ(0, r + δ) − ρ(0, r) = ρ(r, r + δ) = ρ(m_{−r}(r), m_{−r}(r +δ)) =  ρ(0, \\frac{δ}{1 − rδ − r^2})\n",
        "$\n",
        "<br>\n",
        "<br>\n",
        "And so using (iii) we get:\n",
        " <br><br>\n",
        " $\\frac{d^+ρ(0, r)}{dr} = \\frac{d^-ρ(0, r)}{dr} = \\frac{1}{1 − r^2}$\n",
        " \n",
        " $ρ(0, r) = \\int_{0}^{r}\\frac{ds}{1 − s2} = tanh^{−1}(r)$\n",
        "<br>\n",
        "<br>\n"
      ]
    },
    {
      "cell_type": "markdown",
      "metadata": {
        "id": "ty3L8vJc-oCE",
        "colab_type": "text"
      },
      "source": [
        "##**Proof 2**"
      ]
    },
    {
      "cell_type": "markdown",
      "metadata": {
        "id": "d1A-fypbwAW7",
        "colab_type": "text"
      },
      "source": [
        "Given two points $p_{1},p_{2}∈Δ$ we want to show that any point on the line segment between them lies on $Δ$ as well.that is, that $||tp_{1}+(1−t)p_{2}||<1 \\space\\forall \\space 0≤t≤1$.\n",
        "<br><br>\n",
        "By the triangle inequality we have\n",
        "\n",
        "$||tp_{1}+(1−t)p_{2}||≤||tp_{1}||+||(1−t)p_{2}||$\n",
        "<br><br>\n",
        "Since $t$ and $(1−t)$ are positive, this says that\n",
        "\n",
        "$||tp_{1}+(1−t)p_{2}||≤t||p_{1}||+(1−t)||p_{2}||$\n",
        "<br><br>\n",
        "Since  $p_{1},p_{2}∈Δ$, we have $||p_{1}||,||p_{2}||≤1$, so $||tp_{1}+(1−t)p_{2}||≤t*1+(1−t)*1=1$."
      ]
    },
    {
      "cell_type": "markdown",
      "metadata": {
        "id": "Tm3mqx1rCrHZ",
        "colab_type": "text"
      },
      "source": [
        "##**Proof 3**"
      ]
    },
    {
      "cell_type": "markdown",
      "metadata": {
        "id": "LFn7N9OECwJA",
        "colab_type": "text"
      },
      "source": [
        ". (i) If γ is the geodesics joining $z$ and $w$, then $kγ$ is an admissible curve joining $kz$ and $kw$. In addition, calculations show that:\n",
        "$\\frac{kγ'(t)}{1 − k^2|γ(t)|^2} = k\\frac{1 − |γ(t)|^2}\n",
        "{1 − k^2|γ(t)|^2} \\frac{ |γ'(t)|}\n",
        "{1 − |γ(t)|^2} < \\frac{k |γ'(t)|}{1 − |γ(t)|^2}$\n",
        "And so we have,\n",
        "$ρ(kz, kw) ≤ L_{kγ} < kL_{γ} = kρ(z,w)$.\n",
        "<br><br>\n",
        "(ii) Consider the holomorphic mapping F on ∆ defined by:\n",
        "$F(z) = (1 − k)z + ku$,\n",
        "where u is a fixed element of ∆. It follows by the maximum principle that\n",
        "$|F(z)| ≤ q = (1 − k) + k|u| < 1$.\n",
        "Thus\n",
        "$G = \\frac{1}{q} \\space F ∈ Hol(∆)$.\n",
        "Using  assertion (i) above we obtain\n",
        "$ρ(qG(z), qG(w)) = ρ(F(z), F(w)):= ρ((1 − k)z + ku,(1 − k)w + ku)< qρ(G(z), G(w)) ≤ ρ(z,w)$.\n",
        "<br><br>\n",
        "(iii) Suppose that\n",
        "$ max(ρ(z,w), ρ(u, v)) = ρ(z,w)$\n",
        "let $F$ and $G$ in $Aut(∆)$be automorphisms, such that,  $F(z) = 0$ and $G(u) = 0$, say $F = m_{−z}$ and\n",
        "$G = m_{−u}$.\n",
        "\n",
        "Denote $|F(w)| = r_{1}$ and $|G(v)| = r_{2}$ and take rotations $r_{ϕ1}$ and $r_{ϕ2}$ with\n",
        "$ϕ1 = − arg F(w), ϕ2 = − arg G(v)$.\n",
        "Then $F1 = r_{ϕ1} \\circ F$ and $G_{1} = rϕ2 \\circ G$ belong to $Aut(∆)$ and we have\n",
        "$F_{1}(z)=0, F_{1}(w) = r_{1}, G_{1}(u)=0, G_{1}(v) = r_{2}$.\n",
        "Then\n",
        "$ρ(u, v) = ρ(G_{1}(u), G_{1}(v)) = ρ(0, r_{2})≤ ρ(F_{1}(z), F_{1}(w)) = ρ(0, r_{1})$,\n",
        "and we obtain $r2 ≤ r1$.\n",
        "Denoting the mapping $G^{−1}(\\frac{r_{2}}{r_{1}}F)$\n",
        "by $Φ$ we have $Φ ∈ Hol(∆)$ and\n",
        "$Φ(z) = G^{−1}_{1}(\\frac{r_{2}}{r_{1}}F_{1}(z)) = G^{-1}_{1}(0) = u$\n",
        "\n",
        "$Φ(w) = G^{−1}_{1}(\\frac{r_{2}}{r_{1}}F_{1}(w)) = G^{-1}_{1}(r_{2}) = v$\n",
        "\n",
        "If we consider the mapping $(1 − k)I + kΦ$ which  belongs to $Hol(∆)$,\n",
        "again we obtain:\n",
        "$ρ(((1 − k)I + kΦ)(z),((1 − k)I + kΦ)w)\n",
        "= ρ((1 − k)z + kΦ(z),(1 − k)w + kΦ(w))\n",
        "= ρ((1 − k)z + ku,(1 − k)w + kv) ≤ ρ(z,w)$"
      ]
    },
    {
      "cell_type": "markdown",
      "metadata": {
        "id": "R8rFRj_L468u",
        "colab_type": "text"
      },
      "source": [
        "##**Proof 4**"
      ]
    },
    {
      "cell_type": "markdown",
      "metadata": {
        "id": "YrdOOPrA4-6Z",
        "colab_type": "text"
      },
      "source": [
        "It is clear that (i) implies (ii) which, in turn, implies (iii). The equivalence (iii) and (iv) follows from the fact that \n",
        "$\n",
        "ψ^{'}(0^+) = −2σ(z,w)[\n",
        "Re\\{\\frac{\n",
        "\\bar{z}(z − u)}{1 − |z|^2 }+{\\frac{\\bar{w}(w − v)}{1 − |w|^2}}\\} - Re\\{ \\frac{\\bar{z}(w − v) + w(\\bar{z} − \\bar{u})}{\n",
        "1 − \\bar{z}w} \\}] = −2µσ(z,w)\n",
        "$\n",
        "\n",
        "and \n",
        "$\n",
        "ϕ(0^+) = \\frac{−ψ(0^+)}\n",
        "{2 \\sqrt{ 1 − ψ(0) · ψ(0)}} = \\frac{µ}{|m−z(w)|}\n",
        "$\n",
        "\n",
        ", because µ ≥ 0 if and only if (iv) holds.\n",
        "Now, we will show that (iii) implies (i). Assume that $ϕ(0^+) > 0$. We claim that $ϕ$ is a monotone function on [0, 1]. Indeed, suppose that $ϕ$ has a local maximum,\n",
        "which is achieved at the point $t_{0} ∈ (0, 1)$. Then there are two points $t_{1}$ and $t_{2} ∈ (0, 1)$ such that $t_{0} = \\frac{1}{2} (t_{1} + t_{2})$ and $ϕ(t0) > max\\{ϕ(t_{1}), ϕ(t_{2})\\}$.\n",
        "\n",
        "Setting\n",
        "\n",
        "$\n",
        "z_1 = (1 − t_1)z + t_1u, w_1 = (1 − t_1)w + t_1v,\n",
        "z_2 = (1 − t_2)z + t_2u, w_2 = (1 − t_2)w + t_2v,\n",
        "$\n",
        "\n",
        "we have $ρ(z_1, w_1) = ϕ(t_1)$ and $ρ(z_2, w_2) = ϕ(t_2)$.\n",
        "\n",
        "At the same time:\n",
        "$\n",
        "\\frac{1}{2} \n",
        "z_1 +\n",
        "\\frac{1}{2}\n",
        "z_2 = (1 − t_0)z + t_0u,\n",
        "\\frac{1}{2}\n",
        "w_1 +\n",
        "\\frac{1}{2}\n",
        "w_2 = (1 − t_0)w + t_0v.\n",
        "$\n",
        "Thus we have by property (iii) of theorem set 1\n",
        "$\n",
        "ϕ(t_0) = ρ(\\frac{1}{2}\n",
        "z_1 +\n",
        "\\frac{1}{2}\n",
        "z_2, \\frac{1}{2}\n",
        "w_1 +\n",
        "\\frac{1}{2}\n",
        "w_2)\n",
        "≤ max {ρ(z_1, w_1), ρ(z_2, w_2)}\n",
        "= max{ϕ(t_1), ϕ(t_2)}.$\n",
        "Contradiction. Since $ϕ(0^+) > 0$ this implies also that $ϕ$ has no local minimum on $(0, 1)$ and therefore $ϕ$ is monotone. Hence it is not a decreasing function."
      ]
    },
    {
      "cell_type": "markdown",
      "metadata": {
        "id": "sixWU2MTE7zG",
        "colab_type": "text"
      },
      "source": [
        "#**Fun With Angles**"
      ]
    },
    {
      "cell_type": "markdown",
      "metadata": {
        "id": "A062E9zVF0rQ",
        "colab_type": "text"
      },
      "source": [
        "OK so we have kinda reached the end of this presentation, how about to end things the right way i give you the chance to play with angles between two lines on the hyperbolic plane.\n",
        "\n",
        "in the next cell we measure the sharp angle between the hyperbolic lines v1v2 - v2v3.\n",
        "feal free to change the values of v1, v2, v3 to see what happens.\n",
        "\n",
        "(note: for the mathematics implemented in this cell to work out v1, v2, v3 must'nt lay on the same diameter)"
      ]
    },
    {
      "cell_type": "code",
      "metadata": {
        "id": "9vZY0c1sFDTH",
        "colab_type": "code",
        "outputId": "aa44faf6-f629-4417-9761-dc335aa4f8a6",
        "colab": {
          "base_uri": "https://localhost:8080/",
          "height": 286
        }
      },
      "source": [
        "import math\n",
        "import warnings\n",
        "warnings.simplefilter('ignore')\n",
        "\n",
        "v1, v2, v3 = 0.1 + 0.5j , 0.3 + 0.7j, 0.5 + 0.5j\n",
        "\n",
        "u, v, s = v1, v2, v3\n",
        "\n",
        "C1_uv, C2_uv = Get_Circle(u, v) \n",
        "C1_us, C2_us = Get_Circle(u, s)\n",
        "\n",
        "c1, c2 = C1_uv, C2_uv\n",
        "x1_uv, x2_uv = np.roots([1+(c1/c2)**2, 4*c1/c2**2, 4/c2**2 - 1])\n",
        "y1_uv, y2_uv = -2/c2 - c1/c2*x1_uv, -2/c2 - c1/c2*x2_uv\n",
        "\n",
        "c1, c2 = C1_us, C2_us\n",
        "x1_us, x2_us = np.roots([1+(c1/c2)**2, 4*c1/c2**2, 4/c2**2 - 1])\n",
        "y1_us, y2_us = -2/c2 - c1/c2*x1_us, -2/c2 - c1/c2*x2_us\n",
        "\n",
        "u, v = (x1_uv, y1_uv), (x2_uv, y2_uv)\n",
        "s, t = (x1_us, y1_us), (x2_us, y2_us)\n",
        "\n",
        "def dot(a, b):\n",
        "  return a[0]*b[0] + a[1]*b[1]\n",
        "\n",
        "def minus(a, b):\n",
        "  return (a[0] - b[0], a[1] - b[1])\n",
        "\n",
        "P = dot(minus(u, v), minus(s, t)) + dot(u, t)*dot(v, s) - dot(u, s)*dot(v, t)\n",
        "Q = (1 - dot(u, v))**2\n",
        "R = (1 - dot(s, t))**2\n",
        "\n",
        "P, Q, R = P.real, Q.real, R.real\n",
        "\n",
        "angle = math.acos(math.sqrt(P**2/(Q*R)))\n",
        "\n",
        "print('sharp angle = {} degrees'.format(angle*180/math.pi))\n",
        "\n",
        "u, v, s = v1, v2, v3\n",
        "u1, u2 = u.real, u.imag\n",
        "v1, v2 = v.real, v.imag\n",
        "\n",
        "fig, ax = plt.subplots()\n",
        "if (u1*v2 - u2*v1) == 0.0:\n",
        "\n",
        "  vec = u/abs(u)\n",
        "  xs = np.linspace(-1, 1, 2000)\n",
        "  ax.scatter([u.real, v.real], [u.imag, v.imag])\n",
        "  ax.plot(np.cos(2*np.pi*xs) , np.sin(2*np.pi*xs))\n",
        "  ax.plot(vec.real*xs, vec.imag*xs)\n",
        "\n",
        "\n",
        "else:\n",
        "  C1, C2 = Get_Circle(u, v)\n",
        "\n",
        "  xs = np.linspace(0, 1, 1000)\n",
        "\n",
        "  center = (-C1/2, -C2/2)\n",
        "  radius = np.sqrt((u.real-center[0])**2 + (u.imag - center[1])**2)\n",
        "\n",
        "\n",
        "  ax.scatter([u.real, v.real], [u.imag, v.imag])\n",
        "  ax.plot(np.cos(2*np.pi*xs) , np.sin(2*np.pi*xs), color='r')\n",
        "  ax.plot(center[0] + radius*np.cos(2*np.pi*xs) ,center[1] + radius*np.sin(2*np.pi*xs))\n",
        "\n",
        "u, v = s, v\n",
        "u1, u2 = u.real, u.imag\n",
        "v1, v2 = v.real, v.imag\n",
        "\n",
        "if (u1*v2 - u2*v1) == 0.0:\n",
        "\n",
        "  vec = u/abs(u)\n",
        "  xs = np.linspace(-1, 1, 2000)\n",
        "  ax.scatter([u.real, v.real], [u.imag, v.imag])\n",
        "  ax.plot(vec.real*xs, vec.imag*xs)\n",
        "\n",
        "\n",
        "else:\n",
        "  C1, C2 = Get_Circle(u, v)\n",
        "\n",
        "  xs = np.linspace(0, 1, 1000)\n",
        "\n",
        "  center = (-C1/2, -C2/2)\n",
        "  radius = np.sqrt((u.real-center[0])**2 + (u.imag - center[1])**2)\n",
        "\n",
        "\n",
        "  ax.scatter([u.real, v.real], [u.imag, v.imag])\n",
        "  ax.plot(np.cos(2*np.pi*xs) , np.sin(2*np.pi*xs))\n",
        "  ax.plot(center[0] + radius*np.cos(2*np.pi*xs) ,center[1] + radius*np.sin(2*np.pi*xs))\n",
        "\n",
        "ax.axis('equal')\n",
        "plt.show()"
      ],
      "execution_count": 0,
      "outputs": [
        {
          "output_type": "stream",
          "text": [
            "sharp angle = 53.59301654103047 degrees\n"
          ],
          "name": "stdout"
        },
        {
          "output_type": "display_data",
          "data": {
            "image/png": "[encoded data removed]",
            "text/plain": [
              "<Figure size 432x288 with 1 Axes>"
            ]
          },
          "metadata": {
            "tags": []
          }
        }
      ]
    },
    {
      "cell_type": "markdown",
      "metadata": {
        "id": "s2Za1ZkvqI0h",
        "colab_type": "text"
      },
      "source": [
        "# **Project Info**\n",
        "\n",
        "Author : Danon Lior\n",
        "\n",
        "Course : Dynamical Systems"
      ]
    }
  ]
}